{
  "nbformat": 4,
  "nbformat_minor": 0,
  "metadata": {
    "colab": {
      "provenance": [],
      "authorship_tag": "ABX9TyO/f9frxgNevmE+RP/krCND",
      "include_colab_link": true
    },
    "kernelspec": {
      "name": "python3",
      "display_name": "Python 3"
    },
    "language_info": {
      "name": "python"
    }
  },
  "cells": [
    {
      "cell_type": "markdown",
      "metadata": {
        "id": "view-in-github",
        "colab_type": "text"
      },
      "source": [
        "<a href=\"https://colab.research.google.com/github/SinghRaghvendra/Python-projects/blob/main/oops.ipynb\" target=\"_parent\"><img src=\"https://colab.research.google.com/assets/colab-badge.svg\" alt=\"Open In Colab\"/></a>"
      ]
    },
    {
      "cell_type": "code",
      "execution_count": null,
      "metadata": {
        "id": "yKk4r4xlNH2r"
      },
      "outputs": [],
      "source": [
        "class Customer(): #class name\n",
        "  category = \"Fitness\" # Class attribute\n",
        "  def __init__(self, name, city, age, gender, height, weight): #Instance\n",
        "    self.name = name #Instance attribute\n",
        "    self.city = city\n",
        "    self.age  = age\n",
        "    self.gender = gender\n",
        "    self.height = height\n",
        "    self.weight = weight\n",
        "\n",
        "\n"
      ]
    },
    {
      "cell_type": "code",
      "source": [
        "customer1 = Customer(\"Suzzane\", \"london\", 32, \"Female\", 5.5,  59)\n",
        "customer2 = Customer(\"Rishabh\", \"Delhi\", 23, \"Male\", 5.7, 67)"
      ],
      "metadata": {
        "id": "R1b725aNOhJV"
      },
      "execution_count": null,
      "outputs": []
    },
    {
      "cell_type": "code",
      "source": [
        " def display_profile(self):\n",
        "      print(f\"Category: {self.category}\")\n",
        "      print(f\"Name: {self.name}\")\n",
        "      print(f\"City: {self.city}\")\n",
        "      print(f\"Age: {self.age}\")\n",
        "      print(f\"Gender: {self.gender}\")\n",
        "      print(f\"Height: {self.height}\")\n",
        "      print(f\"Weight: {self.weight}\")"
      ],
      "metadata": {
        "id": "ahlJIrDUO2AH"
      },
      "execution_count": null,
      "outputs": []
    },
    {
      "cell_type": "code",
      "source": [
        "display_profile(customer1)"
      ],
      "metadata": {
        "colab": {
          "base_uri": "https://localhost:8080/"
        },
        "id": "tye26pW1PxS-",
        "outputId": "f3306b5d-631e-4031-8efb-c1b5cf758aa0"
      },
      "execution_count": null,
      "outputs": [
        {
          "output_type": "stream",
          "name": "stdout",
          "text": [
            "Category: Fitness\n",
            "Name: Suzzane\n",
            "City: london\n",
            "Age: 32\n",
            "Gender: Female\n",
            "Height: 5.5\n",
            "Weight: 59\n"
          ]
        }
      ]
    },
    {
      "cell_type": "code",
      "source": [
        "def introduction(Customer):\n",
        "  print(f\"Hi, My name is {Customer.name}. I live in {Customer.city} and my age is {Customer.age}. I am a {Customer.gender} of {Customer.height} and weight\\\n",
        "  {Customer.weight}. I am passionate about {Customer.category}\")"
      ],
      "metadata": {
        "id": "vfRK8hKOQoJe"
      },
      "execution_count": null,
      "outputs": []
    },
    {
      "cell_type": "code",
      "source": [
        "introduction(customer2)"
      ],
      "metadata": {
        "colab": {
          "base_uri": "https://localhost:8080/"
        },
        "id": "1WzE8ipyRCiC",
        "outputId": "dad38104-276d-4fd4-bb55-a7ec2280f0d2"
      },
      "execution_count": null,
      "outputs": [
        {
          "output_type": "stream",
          "name": "stdout",
          "text": [
            "Hi, My name is Rishabh. I live in Delhi and my age is 23. I am a Male of 5.7 and weight  67. I am passionate about Fitness\n"
          ]
        }
      ]
    },
    {
      "cell_type": "code",
      "source": [
        "introduction(customer1)"
      ],
      "metadata": {
        "colab": {
          "base_uri": "https://localhost:8080/"
        },
        "id": "yPnxNeS_RIuK",
        "outputId": "b9d34c37-7c6d-406b-d89f-2e2951e9047c"
      },
      "execution_count": null,
      "outputs": [
        {
          "output_type": "stream",
          "name": "stdout",
          "text": [
            "Hi, My name is Suzzane. I live in london and my age is 32. I am a Female of 5.5 and weight  59. I am passionate about Fitness\n"
          ]
        }
      ]
    },
    {
      "cell_type": "code",
      "source": [],
      "metadata": {
        "id": "ynpt0d7NR-4O"
      },
      "execution_count": null,
      "outputs": []
    }
  ]
}