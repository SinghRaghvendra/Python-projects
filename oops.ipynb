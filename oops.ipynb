{
  "nbformat": 4,
  "nbformat_minor": 0,
  "metadata": {
    "colab": {
      "provenance": [],
      "authorship_tag": "ABX9TyOKsP0U7qYV1KufyjvEBztC",
      "include_colab_link": true
    },
    "kernelspec": {
      "name": "python3",
      "display_name": "Python 3"
    },
    "language_info": {
      "name": "python"
    }
  },
  "cells": [
    {
      "cell_type": "markdown",
      "metadata": {
        "id": "view-in-github",
        "colab_type": "text"
      },
      "source": [
        "<a href=\"https://colab.research.google.com/github/SinghRaghvendra/Python-projects/blob/main/oops.ipynb\" target=\"_parent\"><img src=\"https://colab.research.google.com/assets/colab-badge.svg\" alt=\"Open In Colab\"/></a>"
      ]
    },
    {
      "cell_type": "code",
      "execution_count": null,
      "metadata": {
        "id": "yKk4r4xlNH2r"
      },
      "outputs": [],
      "source": [
        "class Customer(): #class name\n",
        "  category = \"Fitness\" # Class attribute\n",
        "  def __init__(self, name, city, age, gender, height, weight): #Instance\n",
        "    self.name = name #Instance attribute\n",
        "    self.city = city\n",
        "    self.age  = age\n",
        "    self.gender = gender\n",
        "    self.height = height\n",
        "    self.weight = weight\n",
        "\n",
        "  def display_profile(self):\n",
        "    print(f\"Category: {self.category}\")\n",
        "    print(f\"Name: {self.name}\")\n",
        "    print(f\"City: {self.city}\")\n",
        "    print(f\"Age: {self.age}\")\n",
        "    print(f\"Gender: {self.gender}\")\n",
        "    print(f\"Height: {self.height}\")\n",
        "    print(f\"Weight: {self.weight}\")\n",
        "\n",
        "  def greet(self):\n",
        "        print(f\"Hi, My name is {self.name}. I live in {self.city} and my age is {self.age}. \"\n",
        "              f\"I am a {self.gender} of {self.height} height and {self.weight} weight. \"\n",
        "              f\"I am passionate about {self.category}.\")\n",
        "\n",
        "\n"
      ]
    },
    {
      "cell_type": "code",
      "source": [
        "display_profile(customer2)"
      ],
      "metadata": {
        "id": "tye26pW1PxS-"
      },
      "execution_count": null,
      "outputs": []
    },
    {
      "cell_type": "code",
      "source": [
        "greet(customer1)"
      ],
      "metadata": {
        "id": "1WzE8ipyRCiC"
      },
      "execution_count": null,
      "outputs": []
    },
    {
      "cell_type": "code",
      "source": [
        "class Job(Customer):\n",
        "    def job(self):\n",
        "        print(f\"{self.name} works for a company.\")  # Uses self.name from Customer class\n"
      ],
      "metadata": {
        "id": "yPnxNeS_RIuK"
      },
      "execution_count": null,
      "outputs": []
    },
    {
      "cell_type": "code",
      "source": [
        "customer1 = Customer(\"Suzzane\", \"london\", 32, \"Female\", 5.5,  59)\n",
        "customer2 = Customer(\"Rishabh\", \"Delhi\", 23, \"Male\", 5.7, 67)"
      ],
      "metadata": {
        "id": "n2fjwziMehBL"
      },
      "execution_count": null,
      "outputs": []
    },
    {
      "cell_type": "code",
      "source": [
        "# Calling methods\n",
        "customer1.display_profile()  # Inherited from Customer\n",
        "customer1.greet()  # Defined in Job class"
      ],
      "metadata": {
        "id": "ynpt0d7NR-4O"
      },
      "execution_count": null,
      "outputs": []
    },
    {
      "cell_type": "code",
      "source": [
        "job1 = Job(\"Suzzane\", \"london\", 32, \"Female\", 5.5,  59)\n",
        "job1.greet()\n",
        "job1.job()\n",
        "job1.display_profile()"
      ],
      "metadata": {
        "id": "1A-1bVOSaoUC"
      },
      "execution_count": null,
      "outputs": []
    },
    {
      "cell_type": "code",
      "source": [
        "#Multiple Inheritance\n",
        "\n",
        "class Family(Customer):\n",
        "    def family(self):\n",
        "        print(f\"{self.name} has a family!\")  # Uses self.name from Customer class"
      ],
      "metadata": {
        "id": "mrrlLdK-bJjH"
      },
      "execution_count": null,
      "outputs": []
    },
    {
      "cell_type": "code",
      "source": [
        "Family1 = Family(\"Rishabh\", \"Delhi\", 23, \"Male\", 5.7, 67)\n",
        "Family1.greet()\n",
        "Family1.family()\n"
      ],
      "metadata": {
        "id": "9yDXXLNMfAXV"
      },
      "execution_count": null,
      "outputs": []
    },
    {
      "cell_type": "code",
      "source": [
        "class member(Family, Customer):\n",
        "  def member(self):\n",
        "    print(f\"{self.name} is a member of the family\")"
      ],
      "metadata": {
        "id": "dEcO-1_jiABe"
      },
      "execution_count": null,
      "outputs": []
    },
    {
      "cell_type": "code",
      "source": [
        "member.greet(customer1)\n",
        "member.family(customer1)\n",
        "member.member(customer1)"
      ],
      "metadata": {
        "id": "AJXD9tCIjhxF"
      },
      "execution_count": null,
      "outputs": []
    },
    {
      "cell_type": "markdown",
      "source": [
        "# OOPS CONCEPTS\n"
      ],
      "metadata": {
        "id": "ApawuY6uuLSE"
      }
    },
    {
      "cell_type": "code",
      "source": [
        "class MyFirstClass:\n",
        "  pass"
      ],
      "metadata": {
        "id": "EfTkrz6Af6HU"
      },
      "execution_count": 3,
      "outputs": []
    },
    {
      "cell_type": "code",
      "source": [
        "a = MyFirstClass()\n",
        "b = MyFirstClass()\n",
        "\n",
        "print(a)"
      ],
      "metadata": {
        "id": "SmcY_pPIuIsH",
        "colab": {
          "base_uri": "https://localhost:8080/"
        },
        "outputId": "a711d704-861e-42d1-a8ac-116bb5547ab8"
      },
      "execution_count": 4,
      "outputs": [
        {
          "output_type": "stream",
          "name": "stdout",
          "text": [
            "<__main__.MyFirstClass object at 0x79e4e9cb60d0>\n"
          ]
        }
      ]
    },
    {
      "cell_type": "code",
      "source": [
        "print(b)"
      ],
      "metadata": {
        "colab": {
          "base_uri": "https://localhost:8080/"
        },
        "id": "KZPOqSW4fy8y",
        "outputId": "8a4243fe-6c02-415a-caa0-21bdd6aa2523"
      },
      "execution_count": 5,
      "outputs": [
        {
          "output_type": "stream",
          "name": "stdout",
          "text": [
            "<__main__.MyFirstClass object at 0x79e4d043a790>\n"
          ]
        }
      ]
    },
    {
      "cell_type": "code",
      "source": [
        "#adding attributes\n",
        "\n",
        "class Point():\n",
        "  pass\n",
        "\n",
        "p1 = Point()\n",
        "p2 = Point()"
      ],
      "metadata": {
        "id": "xmQh3w9Wf3GI"
      },
      "execution_count": 14,
      "outputs": []
    },
    {
      "cell_type": "code",
      "source": [
        "p1.x = 1\n",
        "p1.y = 2\n",
        "\n",
        "p2.x = 3\n",
        "p2.y = 4\n",
        "\n"
      ],
      "metadata": {
        "id": "W8qru8yJgcwt"
      },
      "execution_count": 15,
      "outputs": []
    },
    {
      "cell_type": "code",
      "source": [
        "print(p1.x, p1.y)\n",
        "print(p2.x, p2.y)"
      ],
      "metadata": {
        "colab": {
          "base_uri": "https://localhost:8080/"
        },
        "id": "oEKUUiqHgntm",
        "outputId": "d4beda03-40c8-4abd-df2e-063496e8aa85"
      },
      "execution_count": 16,
      "outputs": [
        {
          "output_type": "stream",
          "name": "stdout",
          "text": [
            "1 2\n",
            "3 4\n"
          ]
        }
      ]
    },
    {
      "cell_type": "markdown",
      "source": [
        "This code creates an empty Point class with no data or behaviors. Then it creates\n",
        "two instances of that class and assigns each of those instances x and y coordinates to\n",
        "identify a point in two dimensions. All we need to do to assign a value to an attribute\n",
        "on an object is use the ///<object>.<attribute> = <value>/// syntax. This is sometimes referred\n",
        "to as dot notation."
      ],
      "metadata": {
        "id": "ciosGDt_hGyY"
      }
    },
    {
      "cell_type": "markdown",
      "source": [
        "**Making it do something** A method in Python is formatted identically to a function. It starts with the keyword def followed by a space and the name of the method. This is followed by a set of parentheses containing the parameter list (we'll discuss that self parameter in just a moment), and terminated with a colon. The next line is indented to contain the statements inside the method.\n",
        "\n"
      ],
      "metadata": {
        "id": "lwhyl-Eqh5d9"
      }
    },
    {
      "cell_type": "code",
      "source": [
        "class Point:\n",
        "  def reset(self):\n",
        "    self.x = 0\n",
        "    self.y = 0\n",
        "\n",
        "\n",
        "p = Point()\n",
        "p.reset()\n",
        "print(p.x, p.y)"
      ],
      "metadata": {
        "colab": {
          "base_uri": "https://localhost:8080/"
        },
        "id": "e1zVFGT7gtBd",
        "outputId": "20445ffc-7f7e-49ac-d1d3-83696cd3c77b"
      },
      "execution_count": 17,
      "outputs": [
        {
          "output_type": "stream",
          "name": "stdout",
          "text": [
            "0 0\n"
          ]
        }
      ]
    },
    {
      "cell_type": "markdown",
      "source": [
        "The self argument to a method is simply a reference to the object that the method\n",
        "is being invoked on. We can access attributes and methods of that object as if it were\n",
        "any another object. However, the method really is just a function that happens to be on a class. Instead\n",
        "of calling the method on the object, we can invoke the function on the class, explicitly\n",
        "passing our object as the self argument:"
      ],
      "metadata": {
        "id": "5vi0ttLsib5Y"
      }
    },
    {
      "cell_type": "code",
      "source": [
        "p = Point()\n",
        "Point.reset(p)\n",
        "print(p.x, p.y)"
      ],
      "metadata": {
        "colab": {
          "base_uri": "https://localhost:8080/"
        },
        "id": "yujlTCLCh16P",
        "outputId": "aa6de585-2107-4caf-8e0c-38437c18fe04"
      },
      "execution_count": 18,
      "outputs": [
        {
          "output_type": "stream",
          "name": "stdout",
          "text": [
            "0 0\n"
          ]
        }
      ]
    },
    {
      "cell_type": "markdown",
      "source": [
        "**Multiple Arguments to a method**"
      ],
      "metadata": {
        "id": "x2hqZ3WyjRHF"
      }
    },
    {
      "cell_type": "code",
      "source": [
        "import math\n",
        "class Point:\n",
        "  def move(self, x, y):\n",
        "    self.x = x\n",
        "    self.y = y\n",
        "\n",
        "  def reset(self):\n",
        "    self.move(0,0)\n",
        "\n",
        "  def calculate_distance(self, other_point):\n",
        "    return math.sqrt(\n",
        "        (self.x - other_point.x)**2 +\n",
        "        (self.y - other_point.y)**2)"
      ],
      "metadata": {
        "id": "fxjPSeEti5fH"
      },
      "execution_count": 20,
      "outputs": []
    },
    {
      "cell_type": "code",
      "source": [
        "#How to use this\n",
        "\n",
        "p1 = Point()\n",
        "p2 = Point()\n",
        "\n",
        "p1.reset()\n",
        "p2.move(10,5)\n",
        "\n",
        "print(p2.calculate_distance(p1))\n",
        "assert (p2.calculate_distance(p1) ==\n",
        "        p1.calculate_distance(p2))\n",
        "p1.move(2,3)\n",
        "print(p1.calculate_distance(p2))\n",
        "print(p2.calculate_distance(p1))"
      ],
      "metadata": {
        "colab": {
          "base_uri": "https://localhost:8080/"
        },
        "id": "bhrsqn0NkB_t",
        "outputId": "1cdfc832-14b3-428d-8504-3089c0cb5f1c"
      },
      "execution_count": 21,
      "outputs": [
        {
          "output_type": "stream",
          "name": "stdout",
          "text": [
            "11.180339887498949\n",
            "8.246211251235321\n",
            "8.246211251235321\n"
          ]
        }
      ]
    },
    {
      "cell_type": "code",
      "source": [],
      "metadata": {
        "id": "rvqS3FJSlhi9"
      },
      "execution_count": null,
      "outputs": []
    },
    {
      "cell_type": "markdown",
      "source": [
        "**Initializing the object**: Most object-oriented programming languages have the concept of a constructor,\n",
        "a special method that creates and initializes the object when it is created. Python is\n",
        "a little different; it has a constructor and an initializer.\n",
        "\n",
        "\n",
        "Python initialization method is the same as any other method, except it has a\n",
        "special name, __init__. The leading and trailing double underscores mean this is\n",
        "a special method that the Python interpreter will treat as a special case."
      ],
      "metadata": {
        "id": "UH0xrtBQlgkm"
      }
    },
    {
      "cell_type": "code",
      "source": [
        "class Point:\n",
        "  def __init__(self,x,y):\n",
        "    self.move(x,y)\n",
        "\n",
        "  def move(self,x,y):\n",
        "    self.x = x\n",
        "    self.y = y\n",
        "\n",
        "  def reset(self):\n",
        "    self.move(0,0)"
      ],
      "metadata": {
        "id": "6PxBXVKClDTR"
      },
      "execution_count": 22,
      "outputs": []
    },
    {
      "cell_type": "code",
      "source": [
        "#Contructing a point\n",
        "point = Point(2,7)\n",
        "print(point.x, point.y)"
      ],
      "metadata": {
        "colab": {
          "base_uri": "https://localhost:8080/"
        },
        "id": "LZh8b0wY_uWW",
        "outputId": "47e443fa-316b-4a4c-a70d-705ad6eb8856"
      },
      "execution_count": 23,
      "outputs": [
        {
          "output_type": "stream",
          "name": "stdout",
          "text": [
            "2 7\n"
          ]
        }
      ]
    },
    {
      "cell_type": "markdown",
      "source": [
        "Now, our point can never go without a y coordinate! If we try to construct a\n",
        "point without including the proper initialization parameters, it will fail with a not\n",
        "enough arguments error. What if we don't want to make those two arguments required? Well, then we can\n",
        "use the same syntax Python functions use to provide default arguments. The\n",
        "keyword argument syntax appends an equals sign after each variable name."
      ],
      "metadata": {
        "id": "DblND8SE_9nd"
      }
    },
    {
      "cell_type": "code",
      "source": [
        "class Point:\n",
        "  def __init__(self,x=1,y=1):\n",
        "    self.move(x,y)\n",
        "\n",
        "  def move(self,x,y):\n",
        "    self.x = x\n",
        "    self.y = y\n",
        "\n",
        "  def reset(self):\n",
        "    self.move(0,0)\n",
        "\n"
      ],
      "metadata": {
        "id": "-jO_nT76_3EY"
      },
      "execution_count": 26,
      "outputs": []
    },
    {
      "cell_type": "code",
      "source": [
        "p1 = Point()"
      ],
      "metadata": {
        "id": "ZfptXyvXAVe7"
      },
      "execution_count": 27,
      "outputs": []
    },
    {
      "cell_type": "code",
      "source": [
        "print(p1.x,p1.y)"
      ],
      "metadata": {
        "colab": {
          "base_uri": "https://localhost:8080/"
        },
        "id": "pexEsFdIAglK",
        "outputId": "217f442c-7fdf-47b3-edff-c3093977bb79"
      },
      "execution_count": 30,
      "outputs": [
        {
          "output_type": "stream",
          "name": "stdout",
          "text": [
            "1 1\n"
          ]
        }
      ]
    },
    {
      "cell_type": "code",
      "source": [
        "p1.x = 5\n",
        "print(p1.x,p1.y)"
      ],
      "metadata": {
        "colab": {
          "base_uri": "https://localhost:8080/"
        },
        "id": "veVxSmKCAiQ-",
        "outputId": "b02975fe-454f-43d5-9023-27f873570007"
      },
      "execution_count": 31,
      "outputs": [
        {
          "output_type": "stream",
          "name": "stdout",
          "text": [
            "5 1\n"
          ]
        }
      ]
    },
    {
      "cell_type": "code",
      "source": [
        "p1.move(2,3)\n",
        "print(p1.x,p1.y)"
      ],
      "metadata": {
        "colab": {
          "base_uri": "https://localhost:8080/"
        },
        "id": "ybacfUzlAsEN",
        "outputId": "daa28d96-ca89-452b-e9aa-d541db9cc2ee"
      },
      "execution_count": 34,
      "outputs": [
        {
          "output_type": "stream",
          "name": "stdout",
          "text": [
            "2 3\n"
          ]
        }
      ]
    },
    {
      "cell_type": "code",
      "source": [
        "p1.reset()\n",
        "print(p1.x,p1.y)"
      ],
      "metadata": {
        "colab": {
          "base_uri": "https://localhost:8080/"
        },
        "id": "gziqCO6cAx-L",
        "outputId": "c117a79d-5c57-4cd3-a83a-b63fab1fe9d7"
      },
      "execution_count": 35,
      "outputs": [
        {
          "output_type": "stream",
          "name": "stdout",
          "text": [
            "0 0\n"
          ]
        }
      ]
    },
    {
      "cell_type": "markdown",
      "source": [
        "Docstrings are simply Python strings enclosed with apostrophe (') or quote (\")\n",
        "characters. Often, docstrings are quite long and span multiple lines (the style guide\n",
        "suggests that the line length should not exceed 80 characters), which can\n",
        "be formatted as multi-line strings, enclosed in matching triple apostrophe (''')\n",
        "or triple quote (\"\"\") characters.\n",
        "\n",
        "A docstring should clearly and concisely summarize the purpose of the class or\n",
        "method it is describing. It should explain any parameters whose usage is not\n",
        "immediately obvious, and is also a good place to include short examples of how to\n",
        "use the API"
      ],
      "metadata": {
        "id": "iKatjXpxDNBk"
      }
    },
    {
      "cell_type": "code",
      "source": [
        "\n",
        "\n",
        "import math\n",
        "\n",
        "class Point:\n",
        "    'Represents a point in two-dimensional geometric coordinates'\n",
        "    def __init__(self, x=1, y=1):\n",
        "        '''Initialize the position of a new point. The x and y\n",
        "        coordinates can be specified. If they are not, the\n",
        "        point defaults to the origin.'''\n",
        "        self.move(x, y)\n",
        "\n",
        "    def move(self, x, y):\n",
        "        \"Move the point to a new location in 2D space.\"\n",
        "        self.x = x\n",
        "        self.y = y\n",
        "\n",
        "    def reset(self):\n",
        "        'Reset the point back to the geometric origin: 0, 0'\n",
        "        self.move(0, 0)\n",
        "\n",
        "    def calculate_distance(self, other_point):\n",
        "        \"\"\"Calculate the distance from this point to a second\n",
        "        point passed as a parameter.\n",
        "        This function uses the Pythagorean Theorem to calculate\n",
        "        the distance between the two points. The distance is\n",
        "        returned as a float.\"\"\"\n",
        "        return math.sqrt(\n",
        "            (self.x - other_point.x)**2 +\n",
        "            (self.y - other_point.y)**2)\n"
      ],
      "metadata": {
        "id": "N2NgNGPyA3-S"
      },
      "execution_count": 39,
      "outputs": []
    },
    {
      "cell_type": "code",
      "source": [
        "p1=Point()"
      ],
      "metadata": {
        "id": "uEKhLcZRDcja"
      },
      "execution_count": 40,
      "outputs": []
    },
    {
      "cell_type": "code",
      "source": [
        "p1.x, p1.y"
      ],
      "metadata": {
        "colab": {
          "base_uri": "https://localhost:8080/"
        },
        "id": "ZnCklUn6D5wZ",
        "outputId": "e0f3d3f0-3e06-4a93-a605-8fe30aa5976e"
      },
      "execution_count": 42,
      "outputs": [
        {
          "output_type": "execute_result",
          "data": {
            "text/plain": [
              "(1, 1)"
            ]
          },
          "metadata": {},
          "execution_count": 42
        }
      ]
    },
    {
      "cell_type": "code",
      "source": [
        "p1.move(3,4)\n",
        "p1.calculate_distance(p2)"
      ],
      "metadata": {
        "colab": {
          "base_uri": "https://localhost:8080/"
        },
        "id": "yP6mqlbkD7-U",
        "outputId": "71bbda5d-f270-4679-fbe7-f3cbab2652d6"
      },
      "execution_count": 46,
      "outputs": [
        {
          "output_type": "execute_result",
          "data": {
            "text/plain": [
              "7.0710678118654755"
            ]
          },
          "metadata": {},
          "execution_count": 46
        }
      ]
    },
    {
      "cell_type": "code",
      "source": [
        "p2= Point(2,2)"
      ],
      "metadata": {
        "id": "34d69ItMEBDe"
      },
      "execution_count": 49,
      "outputs": []
    },
    {
      "cell_type": "code",
      "source": [
        "round(p1.calculate_distance(p2),2)"
      ],
      "metadata": {
        "colab": {
          "base_uri": "https://localhost:8080/"
        },
        "id": "WEX29rpNEMvV",
        "outputId": "3aae3b9e-aa82-4f0d-d274-3cb4606a2473"
      },
      "execution_count": 52,
      "outputs": [
        {
          "output_type": "execute_result",
          "data": {
            "text/plain": [
              "2.24"
            ]
          },
          "metadata": {},
          "execution_count": 52
        }
      ]
    },
    {
      "cell_type": "markdown",
      "source": [
        "#MODULES & PACKAGES"
      ],
      "metadata": {
        "id": "RzXrR45yEylK"
      }
    },
    {
      "cell_type": "code",
      "source": [],
      "metadata": {
        "id": "rcAoqNlREYuU"
      },
      "execution_count": 54,
      "outputs": []
    },
    {
      "cell_type": "code",
      "source": [],
      "metadata": {
        "id": "Ke98y6zAErD1"
      },
      "execution_count": null,
      "outputs": []
    }
  ]
}