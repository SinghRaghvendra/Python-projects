{
  "nbformat": 4,
  "nbformat_minor": 0,
  "metadata": {
    "colab": {
      "provenance": [],
      "authorship_tag": "ABX9TyMV3zprHgnXFmWI9TMun8KN",
      "include_colab_link": true
    },
    "kernelspec": {
      "name": "python3",
      "display_name": "Python 3"
    },
    "language_info": {
      "name": "python"
    }
  },
  "cells": [
    {
      "cell_type": "markdown",
      "metadata": {
        "id": "view-in-github",
        "colab_type": "text"
      },
      "source": [
        "<a href=\"https://colab.research.google.com/github/SinghRaghvendra/Python-projects/blob/main/oops.ipynb\" target=\"_parent\"><img src=\"https://colab.research.google.com/assets/colab-badge.svg\" alt=\"Open In Colab\"/></a>"
      ]
    },
    {
      "cell_type": "code",
      "execution_count": null,
      "metadata": {
        "id": "yKk4r4xlNH2r"
      },
      "outputs": [],
      "source": [
        "class Customer(): #class name\n",
        "  category = \"Fitness\" # Class attribute\n",
        "  def __init__(self, name, city, age, gender, height, weight): #Instance\n",
        "    self.name = name #Instance attribute\n",
        "    self.city = city\n",
        "    self.age  = age\n",
        "    self.gender = gender\n",
        "    self.height = height\n",
        "    self.weight = weight\n",
        "\n",
        "  def display_profile(self):\n",
        "    print(f\"Category: {self.category}\")\n",
        "    print(f\"Name: {self.name}\")\n",
        "    print(f\"City: {self.city}\")\n",
        "    print(f\"Age: {self.age}\")\n",
        "    print(f\"Gender: {self.gender}\")\n",
        "    print(f\"Height: {self.height}\")\n",
        "    print(f\"Weight: {self.weight}\")\n",
        "\n",
        "  def greet(self):\n",
        "        print(f\"Hi, My name is {self.name}. I live in {self.city} and my age is {self.age}. \"\n",
        "              f\"I am a {self.gender} of {self.height} height and {self.weight} weight. \"\n",
        "              f\"I am passionate about {self.category}.\")\n",
        "\n",
        "\n"
      ]
    },
    {
      "cell_type": "code",
      "source": [],
      "metadata": {
        "id": "R1b725aNOhJV"
      },
      "execution_count": null,
      "outputs": []
    },
    {
      "cell_type": "code",
      "source": [
        "customer1.display_profile()"
      ],
      "metadata": {
        "id": "ahlJIrDUO2AH",
        "outputId": "11e2cddb-1b69-45ce-e229-471f3342dd8d",
        "colab": {
          "base_uri": "https://localhost:8080/"
        }
      },
      "execution_count": null,
      "outputs": [
        {
          "output_type": "stream",
          "name": "stdout",
          "text": [
            "Category: Fitness\n",
            "Name: Suzzane\n",
            "City: london\n",
            "Age: 32\n",
            "Gender: Female\n",
            "Height: 5.5\n",
            "Weight: 59\n"
          ]
        }
      ]
    },
    {
      "cell_type": "code",
      "source": [
        "display_profile(customer2)"
      ],
      "metadata": {
        "colab": {
          "base_uri": "https://localhost:8080/"
        },
        "id": "tye26pW1PxS-",
        "outputId": "14ad735d-8613-4a91-93db-b30ea33b5409"
      },
      "execution_count": null,
      "outputs": [
        {
          "output_type": "stream",
          "name": "stdout",
          "text": [
            "Category: Fitness\n",
            "Name: Rishabh\n",
            "City: Delhi\n",
            "Age: 23\n",
            "Gender: Male\n",
            "Height: 5.7\n",
            "Weight: 67\n"
          ]
        }
      ]
    },
    {
      "cell_type": "code",
      "source": [],
      "metadata": {
        "id": "vfRK8hKOQoJe"
      },
      "execution_count": null,
      "outputs": []
    },
    {
      "cell_type": "code",
      "source": [
        "greet(customer1)"
      ],
      "metadata": {
        "colab": {
          "base_uri": "https://localhost:8080/"
        },
        "id": "1WzE8ipyRCiC",
        "outputId": "354271fd-d7fb-43ff-e594-f3e09916bdf0"
      },
      "execution_count": null,
      "outputs": [
        {
          "output_type": "stream",
          "name": "stdout",
          "text": [
            "Hi, My name is Suzzane. I live in london and my age is 32. I am a Female of 5.5 height and 59 weight. I am passionate about Fitness.\n"
          ]
        }
      ]
    },
    {
      "cell_type": "code",
      "source": [
        "class Job(Customer):\n",
        "    def job(self):\n",
        "        print(f\"{self.name} works for a company.\")  # Uses self.name from Customer class\n"
      ],
      "metadata": {
        "id": "yPnxNeS_RIuK"
      },
      "execution_count": null,
      "outputs": []
    },
    {
      "cell_type": "code",
      "source": [
        "customer1 = Customer(\"Suzzane\", \"london\", 32, \"Female\", 5.5,  59)\n",
        "customer2 = Customer(\"Rishabh\", \"Delhi\", 23, \"Male\", 5.7, 67)"
      ],
      "metadata": {
        "id": "n2fjwziMehBL"
      },
      "execution_count": null,
      "outputs": []
    },
    {
      "cell_type": "code",
      "source": [
        "# Calling methods\n",
        "customer1.display_profile()  # Inherited from Customer\n",
        "customer1.greet()  # Defined in Job class"
      ],
      "metadata": {
        "id": "ynpt0d7NR-4O",
        "outputId": "82443c55-f2f1-42da-ac0a-db8483e79748",
        "colab": {
          "base_uri": "https://localhost:8080/"
        }
      },
      "execution_count": null,
      "outputs": [
        {
          "output_type": "stream",
          "name": "stdout",
          "text": [
            "Category: Fitness\n",
            "Name: Suzzane\n",
            "City: london\n",
            "Age: 32\n",
            "Gender: Female\n",
            "Height: 5.5\n",
            "Weight: 59\n",
            "Hi, My name is Suzzane. I live in london and my age is 32. I am a Female of 5.5 height and 59 weight. I am passionate about Fitness.\n"
          ]
        }
      ]
    },
    {
      "cell_type": "code",
      "source": [
        "job1 = Job(\"Suzzane\", \"london\", 32, \"Female\", 5.5,  59)\n",
        "job1.greet()\n",
        "job1.job()\n",
        "job1.display_profile()"
      ],
      "metadata": {
        "id": "1A-1bVOSaoUC",
        "outputId": "6178c583-f823-4c7f-fa1c-b15f6827dda1",
        "colab": {
          "base_uri": "https://localhost:8080/"
        }
      },
      "execution_count": null,
      "outputs": [
        {
          "output_type": "stream",
          "name": "stdout",
          "text": [
            "Hi, My name is Suzzane. I live in london and my age is 32. I am a Female of 5.5 height and 59 weight. I am passionate about Fitness.\n",
            "Suzzane works for a company.\n",
            "Category: Fitness\n",
            "Name: Suzzane\n",
            "City: london\n",
            "Age: 32\n",
            "Gender: Female\n",
            "Height: 5.5\n",
            "Weight: 59\n"
          ]
        }
      ]
    },
    {
      "cell_type": "code",
      "source": [
        "#Multiple Inheritance\n",
        "\n",
        "class Family(Customer):\n",
        "    def family(self):\n",
        "        print(f\"{self.name} has a family!\")  # Uses self.name from Customer class"
      ],
      "metadata": {
        "id": "mrrlLdK-bJjH"
      },
      "execution_count": null,
      "outputs": []
    },
    {
      "cell_type": "code",
      "source": [
        "Family1 = Family(\"Rishabh\", \"Delhi\", 23, \"Male\", 5.7, 67)\n",
        "Family1.greet()\n",
        "Family1.family()\n"
      ],
      "metadata": {
        "id": "9yDXXLNMfAXV",
        "outputId": "5d4ab5da-a7f1-4cb5-ba79-af17a94bccbb",
        "colab": {
          "base_uri": "https://localhost:8080/"
        }
      },
      "execution_count": null,
      "outputs": [
        {
          "output_type": "stream",
          "name": "stdout",
          "text": [
            "Hi, My name is Rishabh. I live in Delhi and my age is 23. I am a Male of 5.7 height and 67 weight. I am passionate about Fitness.\n",
            "Rishabh has a family!\n"
          ]
        }
      ]
    },
    {
      "cell_type": "code",
      "source": [
        "class member(Family, Customer):\n",
        "  def member(self):\n",
        "    print(f\"{self.name} is a member of the family\")"
      ],
      "metadata": {
        "id": "dEcO-1_jiABe"
      },
      "execution_count": null,
      "outputs": []
    },
    {
      "cell_type": "markdown",
      "source": [],
      "metadata": {
        "id": "nvPdmIQOmzjN"
      }
    },
    {
      "cell_type": "code",
      "source": [
        "member.greet(customer1)\n",
        "member.family(customer1)\n",
        "member.member(customer1)"
      ],
      "metadata": {
        "id": "AJXD9tCIjhxF",
        "outputId": "0a51ab27-d85e-467d-891a-4c469f76b170",
        "colab": {
          "base_uri": "https://localhost:8080/"
        }
      },
      "execution_count": null,
      "outputs": [
        {
          "output_type": "stream",
          "name": "stdout",
          "text": [
            "Hi, My name is Suzzane. I live in london and my age is 32. I am a Female of 5.5 height and 59 weight. I am passionate about Fitness.\n",
            "Suzzane has a family!\n",
            "Suzzane is a member of the family\n"
          ]
        }
      ]
    },
    {
      "cell_type": "code",
      "source": [],
      "metadata": {
        "id": "81bYSTJvlEwz"
      },
      "execution_count": null,
      "outputs": []
    }
  ]
}