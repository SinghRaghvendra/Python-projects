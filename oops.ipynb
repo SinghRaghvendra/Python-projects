{
  "cells": [
    {
      "cell_type": "markdown",
      "metadata": {
        "colab_type": "text",
        "id": "view-in-github"
      },
      "source": [
        "<a href=\"https://colab.research.google.com/github/SinghRaghvendra/Python-projects/blob/main/oops.ipynb\" target=\"_parent\"><img src=\"https://colab.research.google.com/assets/colab-badge.svg\" alt=\"Open In Colab\"/></a>"
      ]
    },
    {
      "cell_type": "code",
      "execution_count": null,
      "metadata": {
        "id": "yKk4r4xlNH2r"
      },
      "outputs": [],
      "source": [
        "class Customer(): #class name\n",
        "  category = \"Fitness\" # Class attribute\n",
        "  def __init__(self, name, city, age, gender, height, weight): #Instance\n",
        "    self.name = name #Instance attribute\n",
        "    self.city = city\n",
        "    self.age  = age\n",
        "    self.gender = gender\n",
        "    self.height = height\n",
        "    self.weight = weight\n",
        "\n",
        "  def display_profile(self):\n",
        "    print(f\"Category: {self.category}\")\n",
        "    print(f\"Name: {self.name}\")\n",
        "    print(f\"City: {self.city}\")\n",
        "    print(f\"Age: {self.age}\")\n",
        "    print(f\"Gender: {self.gender}\")\n",
        "    print(f\"Height: {self.height}\")\n",
        "    print(f\"Weight: {self.weight}\")\n",
        "\n",
        "  def greet(self):\n",
        "        print(f\"Hi, My name is {self.name}. I live in {self.city} and my age is {self.age}. \"\n",
        "              f\"I am a {self.gender} of {self.height} height and {self.weight} weight. \"\n",
        "              f\"I am passionate about {self.category}.\")\n",
        "\n",
        "\n"
      ]
    },
    {
      "cell_type": "code",
      "execution_count": null,
      "metadata": {
        "id": "tye26pW1PxS-"
      },
      "outputs": [],
      "source": [
        "display_profile(customer2)"
      ]
    },
    {
      "cell_type": "code",
      "execution_count": null,
      "metadata": {
        "id": "1WzE8ipyRCiC"
      },
      "outputs": [],
      "source": [
        "greet(customer1)"
      ]
    },
    {
      "cell_type": "code",
      "execution_count": null,
      "metadata": {
        "id": "yPnxNeS_RIuK"
      },
      "outputs": [],
      "source": [
        "class Job(Customer):\n",
        "    def job(self):\n",
        "        print(f\"{self.name} works for a company.\")  # Uses self.name from Customer class\n"
      ]
    },
    {
      "cell_type": "code",
      "execution_count": null,
      "metadata": {
        "id": "n2fjwziMehBL"
      },
      "outputs": [],
      "source": [
        "customer1 = Customer(\"Suzzane\", \"london\", 32, \"Female\", 5.5,  59)\n",
        "customer2 = Customer(\"Rishabh\", \"Delhi\", 23, \"Male\", 5.7, 67)"
      ]
    },
    {
      "cell_type": "code",
      "execution_count": null,
      "metadata": {
        "id": "ynpt0d7NR-4O"
      },
      "outputs": [],
      "source": [
        "# Calling methods\n",
        "customer1.display_profile()  # Inherited from Customer\n",
        "customer1.greet()  # Defined in Job class"
      ]
    },
    {
      "cell_type": "code",
      "execution_count": null,
      "metadata": {
        "id": "1A-1bVOSaoUC"
      },
      "outputs": [],
      "source": [
        "job1 = Job(\"Suzzane\", \"london\", 32, \"Female\", 5.5,  59)\n",
        "job1.greet()\n",
        "job1.job()\n",
        "job1.display_profile()"
      ]
    },
    {
      "cell_type": "code",
      "execution_count": null,
      "metadata": {
        "id": "mrrlLdK-bJjH"
      },
      "outputs": [],
      "source": [
        "#Multiple Inheritance\n",
        "\n",
        "class Family(Customer):\n",
        "    def family(self):\n",
        "        print(f\"{self.name} has a family!\")  # Uses self.name from Customer class"
      ]
    },
    {
      "cell_type": "code",
      "execution_count": null,
      "metadata": {
        "id": "9yDXXLNMfAXV"
      },
      "outputs": [],
      "source": [
        "Family1 = Family(\"Rishabh\", \"Delhi\", 23, \"Male\", 5.7, 67)\n",
        "Family1.greet()\n",
        "Family1.family()\n"
      ]
    },
    {
      "cell_type": "code",
      "execution_count": null,
      "metadata": {
        "id": "dEcO-1_jiABe"
      },
      "outputs": [],
      "source": [
        "class member(Family, Customer):\n",
        "  def member(self):\n",
        "    print(f\"{self.name} is a member of the family\")"
      ]
    },
    {
      "cell_type": "code",
      "execution_count": null,
      "metadata": {
        "id": "AJXD9tCIjhxF"
      },
      "outputs": [],
      "source": [
        "member.greet(customer1)\n",
        "member.family(customer1)\n",
        "member.member(customer1)"
      ]
    },
    {
      "cell_type": "markdown",
      "metadata": {
        "id": "ApawuY6uuLSE"
      },
      "source": [
        "# OOPS CONCEPTS\n"
      ]
    },
    {
      "cell_type": "code",
      "execution_count": 3,
      "metadata": {
        "id": "EfTkrz6Af6HU"
      },
      "outputs": [],
      "source": [
        "class MyFirstClass:\n",
        "  pass"
      ]
    },
    {
      "cell_type": "code",
      "execution_count": 4,
      "metadata": {
        "colab": {
          "base_uri": "https://localhost:8080/"
        },
        "id": "SmcY_pPIuIsH",
        "outputId": "a711d704-861e-42d1-a8ac-116bb5547ab8"
      },
      "outputs": [
        {
          "name": "stdout",
          "output_type": "stream",
          "text": [
            "<__main__.MyFirstClass object at 0x79e4e9cb60d0>\n"
          ]
        }
      ],
      "source": [
        "a = MyFirstClass()\n",
        "b = MyFirstClass()\n",
        "\n",
        "print(a)"
      ]
    },
    {
      "cell_type": "code",
      "execution_count": 5,
      "metadata": {
        "colab": {
          "base_uri": "https://localhost:8080/"
        },
        "id": "KZPOqSW4fy8y",
        "outputId": "8a4243fe-6c02-415a-caa0-21bdd6aa2523"
      },
      "outputs": [
        {
          "name": "stdout",
          "output_type": "stream",
          "text": [
            "<__main__.MyFirstClass object at 0x79e4d043a790>\n"
          ]
        }
      ],
      "source": [
        "print(b)"
      ]
    },
    {
      "cell_type": "code",
      "execution_count": 14,
      "metadata": {
        "id": "xmQh3w9Wf3GI"
      },
      "outputs": [],
      "source": [
        "#adding attributes\n",
        "\n",
        "class Point():\n",
        "  pass\n",
        "\n",
        "p1 = Point()\n",
        "p2 = Point()"
      ]
    },
    {
      "cell_type": "code",
      "execution_count": 15,
      "metadata": {
        "id": "W8qru8yJgcwt"
      },
      "outputs": [],
      "source": [
        "p1.x = 1\n",
        "p1.y = 2\n",
        "\n",
        "p2.x = 3\n",
        "p2.y = 4\n",
        "\n"
      ]
    },
    {
      "cell_type": "code",
      "execution_count": 16,
      "metadata": {
        "colab": {
          "base_uri": "https://localhost:8080/"
        },
        "id": "oEKUUiqHgntm",
        "outputId": "d4beda03-40c8-4abd-df2e-063496e8aa85"
      },
      "outputs": [
        {
          "name": "stdout",
          "output_type": "stream",
          "text": [
            "1 2\n",
            "3 4\n"
          ]
        }
      ],
      "source": [
        "print(p1.x, p1.y)\n",
        "print(p2.x, p2.y)"
      ]
    },
    {
      "cell_type": "markdown",
      "metadata": {
        "id": "ciosGDt_hGyY"
      },
      "source": [
        "This code creates an empty Point class with no data or behaviors. Then it creates\n",
        "two instances of that class and assigns each of those instances x and y coordinates to\n",
        "identify a point in two dimensions. All we need to do to assign a value to an attribute\n",
        "on an object is use the ///<object>.<attribute> = <value>/// syntax. This is sometimes referred\n",
        "to as dot notation."
      ]
    },
    {
      "cell_type": "markdown",
      "metadata": {
        "id": "lwhyl-Eqh5d9"
      },
      "source": [
        "**Making it do something** A method in Python is formatted identically to a function. It starts with the keyword def followed by a space and the name of the method. This is followed by a set of parentheses containing the parameter list (we'll discuss that self parameter in just a moment), and terminated with a colon. The next line is indented to contain the statements inside the method.\n",
        "\n"
      ]
    },
    {
      "cell_type": "code",
      "execution_count": 17,
      "metadata": {
        "colab": {
          "base_uri": "https://localhost:8080/"
        },
        "id": "e1zVFGT7gtBd",
        "outputId": "20445ffc-7f7e-49ac-d1d3-83696cd3c77b"
      },
      "outputs": [
        {
          "name": "stdout",
          "output_type": "stream",
          "text": [
            "0 0\n"
          ]
        }
      ],
      "source": [
        "class Point:\n",
        "  def reset(self):\n",
        "    self.x = 0\n",
        "    self.y = 0\n",
        "\n",
        "\n",
        "p = Point()\n",
        "p.reset()\n",
        "print(p.x, p.y)"
      ]
    },
    {
      "cell_type": "markdown",
      "metadata": {
        "id": "5vi0ttLsib5Y"
      },
      "source": [
        "The self argument to a method is simply a reference to the object that the method\n",
        "is being invoked on. We can access attributes and methods of that object as if it were\n",
        "any another object. However, the method really is just a function that happens to be on a class. Instead\n",
        "of calling the method on the object, we can invoke the function on the class, explicitly\n",
        "passing our object as the self argument:"
      ]
    },
    {
      "cell_type": "code",
      "execution_count": 18,
      "metadata": {
        "colab": {
          "base_uri": "https://localhost:8080/"
        },
        "id": "yujlTCLCh16P",
        "outputId": "aa6de585-2107-4caf-8e0c-38437c18fe04"
      },
      "outputs": [
        {
          "name": "stdout",
          "output_type": "stream",
          "text": [
            "0 0\n"
          ]
        }
      ],
      "source": [
        "p = Point()\n",
        "Point.reset(p)\n",
        "print(p.x, p.y)"
      ]
    },
    {
      "cell_type": "markdown",
      "metadata": {
        "id": "x2hqZ3WyjRHF"
      },
      "source": [
        "**Multiple Arguments to a method**"
      ]
    },
    {
      "cell_type": "code",
      "execution_count": 20,
      "metadata": {
        "id": "fxjPSeEti5fH"
      },
      "outputs": [],
      "source": [
        "import math\n",
        "class Point:\n",
        "  def move(self, x, y):\n",
        "    self.x = x\n",
        "    self.y = y\n",
        "\n",
        "  def reset(self):\n",
        "    self.move(0,0)\n",
        "\n",
        "  def calculate_distance(self, other_point):\n",
        "    return math.sqrt(\n",
        "        (self.x - other_point.x)**2 +\n",
        "        (self.y - other_point.y)**2)"
      ]
    },
    {
      "cell_type": "code",
      "execution_count": 21,
      "metadata": {
        "colab": {
          "base_uri": "https://localhost:8080/"
        },
        "id": "bhrsqn0NkB_t",
        "outputId": "1cdfc832-14b3-428d-8504-3089c0cb5f1c"
      },
      "outputs": [
        {
          "name": "stdout",
          "output_type": "stream",
          "text": [
            "11.180339887498949\n",
            "8.246211251235321\n",
            "8.246211251235321\n"
          ]
        }
      ],
      "source": [
        "#How to use this\n",
        "\n",
        "p1 = Point()\n",
        "p2 = Point()\n",
        "\n",
        "p1.reset()\n",
        "p2.move(10,5)\n",
        "\n",
        "print(p2.calculate_distance(p1))\n",
        "assert (p2.calculate_distance(p1) ==\n",
        "        p1.calculate_distance(p2))\n",
        "p1.move(2,3)\n",
        "print(p1.calculate_distance(p2))\n",
        "print(p2.calculate_distance(p1))"
      ]
    },
    {
      "cell_type": "code",
      "execution_count": null,
      "metadata": {
        "id": "rvqS3FJSlhi9"
      },
      "outputs": [],
      "source": []
    },
    {
      "cell_type": "markdown",
      "metadata": {
        "id": "UH0xrtBQlgkm"
      },
      "source": [
        "**Initializing the object**: Most object-oriented programming languages have the concept of a constructor,\n",
        "a special method that creates and initializes the object when it is created. Python is\n",
        "a little different; it has a constructor and an initializer.\n",
        "\n",
        "\n",
        "Python initialization method is the same as any other method, except it has a\n",
        "special name, __init__. The leading and trailing double underscores mean this is\n",
        "a special method that the Python interpreter will treat as a special case."
      ]
    },
    {
      "cell_type": "code",
      "execution_count": 22,
      "metadata": {
        "id": "6PxBXVKClDTR"
      },
      "outputs": [],
      "source": [
        "class Point:\n",
        "  def __init__(self,x,y):\n",
        "    self.move(x,y)\n",
        "\n",
        "  def move(self,x,y):\n",
        "    self.x = x\n",
        "    self.y = y\n",
        "\n",
        "  def reset(self):\n",
        "    self.move(0,0)"
      ]
    },
    {
      "cell_type": "code",
      "execution_count": 23,
      "metadata": {
        "colab": {
          "base_uri": "https://localhost:8080/"
        },
        "id": "LZh8b0wY_uWW",
        "outputId": "47e443fa-316b-4a4c-a70d-705ad6eb8856"
      },
      "outputs": [
        {
          "name": "stdout",
          "output_type": "stream",
          "text": [
            "2 7\n"
          ]
        }
      ],
      "source": [
        "#Contructing a point\n",
        "point = Point(2,7)\n",
        "print(point.x, point.y)"
      ]
    },
    {
      "cell_type": "markdown",
      "metadata": {
        "id": "DblND8SE_9nd"
      },
      "source": [
        "Now, our point can never go without a y coordinate! If we try to construct a\n",
        "point without including the proper initialization parameters, it will fail with a not\n",
        "enough arguments error. What if we don't want to make those two arguments required? Well, then we can\n",
        "use the same syntax Python functions use to provide default arguments. The\n",
        "keyword argument syntax appends an equals sign after each variable name."
      ]
    },
    {
      "cell_type": "code",
      "execution_count": 26,
      "metadata": {
        "id": "-jO_nT76_3EY"
      },
      "outputs": [],
      "source": [
        "class Point:\n",
        "  def __init__(self,x=1,y=1):\n",
        "    self.move(x,y)\n",
        "\n",
        "  def move(self,x,y):\n",
        "    self.x = x\n",
        "    self.y = y\n",
        "\n",
        "  def reset(self):\n",
        "    self.move(0,0)\n",
        "\n"
      ]
    },
    {
      "cell_type": "code",
      "execution_count": 27,
      "metadata": {
        "id": "ZfptXyvXAVe7"
      },
      "outputs": [],
      "source": [
        "p1 = Point()"
      ]
    },
    {
      "cell_type": "code",
      "execution_count": 30,
      "metadata": {
        "colab": {
          "base_uri": "https://localhost:8080/"
        },
        "id": "pexEsFdIAglK",
        "outputId": "217f442c-7fdf-47b3-edff-c3093977bb79"
      },
      "outputs": [
        {
          "name": "stdout",
          "output_type": "stream",
          "text": [
            "1 1\n"
          ]
        }
      ],
      "source": [
        "print(p1.x,p1.y)"
      ]
    },
    {
      "cell_type": "code",
      "execution_count": 31,
      "metadata": {
        "colab": {
          "base_uri": "https://localhost:8080/"
        },
        "id": "veVxSmKCAiQ-",
        "outputId": "b02975fe-454f-43d5-9023-27f873570007"
      },
      "outputs": [
        {
          "name": "stdout",
          "output_type": "stream",
          "text": [
            "5 1\n"
          ]
        }
      ],
      "source": [
        "p1.x = 5\n",
        "print(p1.x,p1.y)"
      ]
    },
    {
      "cell_type": "code",
      "execution_count": 34,
      "metadata": {
        "colab": {
          "base_uri": "https://localhost:8080/"
        },
        "id": "ybacfUzlAsEN",
        "outputId": "daa28d96-ca89-452b-e9aa-d541db9cc2ee"
      },
      "outputs": [
        {
          "name": "stdout",
          "output_type": "stream",
          "text": [
            "2 3\n"
          ]
        }
      ],
      "source": [
        "p1.move(2,3)\n",
        "print(p1.x,p1.y)"
      ]
    },
    {
      "cell_type": "code",
      "execution_count": 35,
      "metadata": {
        "colab": {
          "base_uri": "https://localhost:8080/"
        },
        "id": "gziqCO6cAx-L",
        "outputId": "c117a79d-5c57-4cd3-a83a-b63fab1fe9d7"
      },
      "outputs": [
        {
          "name": "stdout",
          "output_type": "stream",
          "text": [
            "0 0\n"
          ]
        }
      ],
      "source": [
        "p1.reset()\n",
        "print(p1.x,p1.y)"
      ]
    },
    {
      "cell_type": "markdown",
      "metadata": {
        "id": "iKatjXpxDNBk"
      },
      "source": [
        "Docstrings are simply Python strings enclosed with apostrophe (') or quote (\")\n",
        "characters. Often, docstrings are quite long and span multiple lines (the style guide\n",
        "suggests that the line length should not exceed 80 characters), which can\n",
        "be formatted as multi-line strings, enclosed in matching triple apostrophe (''')\n",
        "or triple quote (\"\"\") characters.\n",
        "\n",
        "A docstring should clearly and concisely summarize the purpose of the class or\n",
        "method it is describing. It should explain any parameters whose usage is not\n",
        "immediately obvious, and is also a good place to include short examples of how to\n",
        "use the API"
      ]
    },
    {
      "cell_type": "code",
      "execution_count": 39,
      "metadata": {
        "id": "N2NgNGPyA3-S"
      },
      "outputs": [],
      "source": [
        "\n",
        "\n",
        "import math\n",
        "\n",
        "class Point:\n",
        "    'Represents a point in two-dimensional geometric coordinates'\n",
        "    def __init__(self, x=1, y=1):\n",
        "        '''Initialize the position of a new point. The x and y\n",
        "        coordinates can be specified. If they are not, the\n",
        "        point defaults to the origin.'''\n",
        "        self.move(x, y)\n",
        "\n",
        "    def move(self, x, y):\n",
        "        \"Move the point to a new location in 2D space.\"\n",
        "        self.x = x\n",
        "        self.y = y\n",
        "\n",
        "    def reset(self):\n",
        "        'Reset the point back to the geometric origin: 0, 0'\n",
        "        self.move(0, 0)\n",
        "\n",
        "    def calculate_distance(self, other_point):\n",
        "        \"\"\"Calculate the distance from this point to a second\n",
        "        point passed as a parameter.\n",
        "        This function uses the Pythagorean Theorem to calculate\n",
        "        the distance between the two points. The distance is\n",
        "        returned as a float.\"\"\"\n",
        "        return math.sqrt(\n",
        "            (self.x - other_point.x)**2 +\n",
        "            (self.y - other_point.y)**2)\n"
      ]
    },
    {
      "cell_type": "code",
      "execution_count": 40,
      "metadata": {
        "id": "uEKhLcZRDcja"
      },
      "outputs": [],
      "source": [
        "p1=Point()"
      ]
    },
    {
      "cell_type": "code",
      "execution_count": 42,
      "metadata": {
        "colab": {
          "base_uri": "https://localhost:8080/"
        },
        "id": "ZnCklUn6D5wZ",
        "outputId": "e0f3d3f0-3e06-4a93-a605-8fe30aa5976e"
      },
      "outputs": [
        {
          "data": {
            "text/plain": [
              "(1, 1)"
            ]
          },
          "execution_count": 42,
          "metadata": {},
          "output_type": "execute_result"
        }
      ],
      "source": [
        "p1.x, p1.y"
      ]
    },
    {
      "cell_type": "code",
      "execution_count": 46,
      "metadata": {
        "colab": {
          "base_uri": "https://localhost:8080/"
        },
        "id": "yP6mqlbkD7-U",
        "outputId": "71bbda5d-f270-4679-fbe7-f3cbab2652d6"
      },
      "outputs": [
        {
          "data": {
            "text/plain": [
              "7.0710678118654755"
            ]
          },
          "execution_count": 46,
          "metadata": {},
          "output_type": "execute_result"
        }
      ],
      "source": [
        "p1.move(3,4)\n",
        "p1.calculate_distance(p2)"
      ]
    },
    {
      "cell_type": "code",
      "execution_count": 49,
      "metadata": {
        "id": "34d69ItMEBDe"
      },
      "outputs": [],
      "source": [
        "p2= Point(2,2)"
      ]
    },
    {
      "cell_type": "code",
      "execution_count": 52,
      "metadata": {
        "colab": {
          "base_uri": "https://localhost:8080/"
        },
        "id": "WEX29rpNEMvV",
        "outputId": "3aae3b9e-aa82-4f0d-d274-3cb4606a2473"
      },
      "outputs": [
        {
          "data": {
            "text/plain": [
              "2.24"
            ]
          },
          "execution_count": 52,
          "metadata": {},
          "output_type": "execute_result"
        }
      ],
      "source": [
        "round(p1.calculate_distance(p2),2)"
      ]
    },
    {
      "cell_type": "markdown",
      "metadata": {
        "id": "RzXrR45yEylK"
      },
      "source": [
        "#MODULES & PACKAGES"
      ]
    },
    {
      "cell_type": "code",
      "execution_count": 28,
      "metadata": {
        "id": "rcAoqNlREYuU"
      },
      "outputs": [],
      "source": [
        "from moudule1 import Employee\n",
        "\n",
        "E3 = Employee(\"Sheela\",23,\"F\")"
      ]
    },
    {
      "cell_type": "code",
      "execution_count": 30,
      "metadata": {
        "id": "Ke98y6zAErD1"
      },
      "outputs": [],
      "source": [
        "E3.name\n",
        "E3.department(\"Raghva\",\"HR\")"
      ]
    },
    {
      "cell_type": "markdown",
      "metadata": {},
      "source": [
        " we should always put our startup code in a function (conventionally,\n",
        "called main) and only execute that function when we know we are running the\n",
        "module as a script, but not when our code is being imported from a different script."
      ]
    },
    {
      "cell_type": "code",
      "execution_count": 5,
      "metadata": {},
      "outputs": [
        {
          "name": "stdout",
          "output_type": "stream",
          "text": [
            "<__main__.UsefulClass object at 0x00000247462C5E50>\n"
          ]
        }
      ],
      "source": [
        "class UsefulClass:\n",
        "    '''This class might be useful to other modules.'''\n",
        "    pass\n",
        "\n",
        "def main():\n",
        "   '''creates a useful class and does something with it for our module.'''\n",
        "   useful = UsefulClass()\n",
        "   print(useful)\n",
        "\n",
        "if __name__ == \"__main__\":\n",
        "    main()"
      ]
    },
    {
      "cell_type": "code",
      "execution_count": 6,
      "metadata": {},
      "outputs": [],
      "source": [
        "#We could delay creating the database until it is actually needed by calling an initialize_database function to create the module-level variable:\n",
        "class Database:\n",
        "    '''the database implementation'''\n",
        "    pass\n",
        "database = None\n",
        "def initialize_database():\n",
        "    global database\n",
        "database = Database()"
      ]
    },
    {
      "cell_type": "markdown",
      "metadata": {},
      "source": [
        "Every module has a __name__ special variable (remember, Python uses double\n",
        "underscores for special variables, such as a class's __init__ method) that specifies\n",
        "the name of the module when it was imported. When the module is executed directly\n",
        "with python module.py, it is never imported, so the __name__ is arbitrarily set to the\n",
        "string \"__main__\". Make it a policy to wrap all your scripts in an if __name__ ==\n",
        "\"__main__\": test, just in case you write a function you will find useful to be imported\n",
        "by other code someday.\n",
        "\n",
        "Classes can be defined anywhere. They are typically defined at\n",
        "the module level, but they can also be defined inside a function or method, like this:"
      ]
    },
    {
      "cell_type": "code",
      "execution_count": 8,
      "metadata": {},
      "outputs": [
        {
          "name": "stdout",
          "output_type": "stream",
          "text": [
            " input: hello world, how are you today?\n",
            "output: Hello World, How Are You Today?\n"
          ]
        }
      ],
      "source": [
        "def format_string(string, formatter=None):\n",
        "    '''Format a string using the formatter object, which\n",
        "    is expected to have a format() method that accepts a string.'''\n",
        "    \n",
        "    class DefaultFormatter:\n",
        "        '''Format a string in title case.'''\n",
        "        def format(self, string):\n",
        "            return str(string).title()\n",
        "\n",
        "    if not formatter:\n",
        "        formatter = DefaultFormatter()\n",
        "    \n",
        "    return formatter.format(string)\n",
        "\n",
        "# Test the function\n",
        "hello_string = \"hello world, how are you today?\"\n",
        "print(\" input: \" + hello_string)\n",
        "print(\"output: \" + format_string(hello_string))\n"
      ]
    },
    {
      "cell_type": "code",
      "execution_count": null,
      "metadata": {},
      "outputs": [],
      "source": []
    }
  ],
  "metadata": {
    "colab": {
      "authorship_tag": "ABX9TyOKsP0U7qYV1KufyjvEBztC",
      "include_colab_link": true,
      "provenance": []
    },
    "kernelspec": {
      "display_name": "Python 3",
      "name": "python3"
    },
    "language_info": {
      "codemirror_mode": {
        "name": "ipython",
        "version": 3
      },
      "file_extension": ".py",
      "mimetype": "text/x-python",
      "name": "python",
      "nbconvert_exporter": "python",
      "pygments_lexer": "ipython3",
      "version": "3.11.9"
    }
  },
  "nbformat": 4,
  "nbformat_minor": 0
}
