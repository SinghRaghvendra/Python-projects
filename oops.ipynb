{
  "nbformat": 4,
  "nbformat_minor": 0,
  "metadata": {
    "colab": {
      "provenance": [],
      "authorship_tag": "ABX9TyM6PhkDetjU/ULVQMOncX1i",
      "include_colab_link": true
    },
    "kernelspec": {
      "name": "python3",
      "display_name": "Python 3"
    },
    "language_info": {
      "name": "python"
    }
  },
  "cells": [
    {
      "cell_type": "markdown",
      "metadata": {
        "id": "view-in-github",
        "colab_type": "text"
      },
      "source": [
        "<a href=\"https://colab.research.google.com/github/SinghRaghvendra/Python-projects/blob/main/oops.ipynb\" target=\"_parent\"><img src=\"https://colab.research.google.com/assets/colab-badge.svg\" alt=\"Open In Colab\"/></a>"
      ]
    },
    {
      "cell_type": "code",
      "source": [],
      "metadata": {
        "id": "98hhwCnKtRCs"
      },
      "execution_count": 6,
      "outputs": []
    },
    {
      "cell_type": "code",
      "execution_count": 1,
      "metadata": {
        "id": "yKk4r4xlNH2r"
      },
      "outputs": [],
      "source": [
        "class Customer(): #class name\n",
        "  category = \"Fitness\" # Class attribute\n",
        "  def __init__(self, name, city, age, gender, height, weight): #Instance\n",
        "    self.name = name #Instance attribute\n",
        "    self.city = city\n",
        "    self.age  = age\n",
        "    self.gender = gender\n",
        "    self.height = height\n",
        "    self.weight = weight\n",
        "\n",
        "  def display_profile(self):\n",
        "    print(f\"Category: {self.category}\")\n",
        "    print(f\"Name: {self.name}\")\n",
        "    print(f\"City: {self.city}\")\n",
        "    print(f\"Age: {self.age}\")\n",
        "    print(f\"Gender: {self.gender}\")\n",
        "    print(f\"Height: {self.height}\")\n",
        "    print(f\"Weight: {self.weight}\")\n",
        "\n",
        "  def greet(self):\n",
        "        print(f\"Hi, My name is {self.name}. I live in {self.city} and my age is {self.age}. \"\n",
        "              f\"I am a {self.gender} of {self.height} height and {self.weight} weight. \"\n",
        "              f\"I am passionate about {self.category}.\")\n",
        "\n",
        "\n"
      ]
    },
    {
      "cell_type": "code",
      "source": [],
      "metadata": {
        "id": "R1b725aNOhJV"
      },
      "execution_count": 1,
      "outputs": []
    },
    {
      "cell_type": "code",
      "source": [
        "customer1.display_profile()"
      ],
      "metadata": {
        "id": "ahlJIrDUO2AH",
        "outputId": "1344b3f6-50c9-4d18-d20c-bf5a6a1e41c9",
        "colab": {
          "base_uri": "https://localhost:8080/",
          "height": 141
        }
      },
      "execution_count": 2,
      "outputs": [
        {
          "output_type": "error",
          "ename": "NameError",
          "evalue": "name 'customer1' is not defined",
          "traceback": [
            "\u001b[0;31m---------------------------------------------------------------------------\u001b[0m",
            "\u001b[0;31mNameError\u001b[0m                                 Traceback (most recent call last)",
            "\u001b[0;32m<ipython-input-2-57219fac9a5e>\u001b[0m in \u001b[0;36m<cell line: 0>\u001b[0;34m()\u001b[0m\n\u001b[0;32m----> 1\u001b[0;31m \u001b[0mcustomer1\u001b[0m\u001b[0;34m.\u001b[0m\u001b[0mdisplay_profile\u001b[0m\u001b[0;34m(\u001b[0m\u001b[0;34m)\u001b[0m\u001b[0;34m\u001b[0m\u001b[0;34m\u001b[0m\u001b[0m\n\u001b[0m",
            "\u001b[0;31mNameError\u001b[0m: name 'customer1' is not defined"
          ]
        }
      ]
    },
    {
      "cell_type": "code",
      "source": [
        "display_profile(customer2)"
      ],
      "metadata": {
        "id": "tye26pW1PxS-"
      },
      "execution_count": null,
      "outputs": []
    },
    {
      "cell_type": "code",
      "source": [],
      "metadata": {
        "id": "vfRK8hKOQoJe"
      },
      "execution_count": null,
      "outputs": []
    },
    {
      "cell_type": "code",
      "source": [
        "greet(customer1)"
      ],
      "metadata": {
        "id": "1WzE8ipyRCiC"
      },
      "execution_count": null,
      "outputs": []
    },
    {
      "cell_type": "code",
      "source": [
        "class Job(Customer):\n",
        "    def job(self):\n",
        "        print(f\"{self.name} works for a company.\")  # Uses self.name from Customer class\n"
      ],
      "metadata": {
        "id": "yPnxNeS_RIuK"
      },
      "execution_count": null,
      "outputs": []
    },
    {
      "cell_type": "code",
      "source": [
        "customer1 = Customer(\"Suzzane\", \"london\", 32, \"Female\", 5.5,  59)\n",
        "customer2 = Customer(\"Rishabh\", \"Delhi\", 23, \"Male\", 5.7, 67)"
      ],
      "metadata": {
        "id": "n2fjwziMehBL"
      },
      "execution_count": null,
      "outputs": []
    },
    {
      "cell_type": "code",
      "source": [
        "# Calling methods\n",
        "customer1.display_profile()  # Inherited from Customer\n",
        "customer1.greet()  # Defined in Job class"
      ],
      "metadata": {
        "id": "ynpt0d7NR-4O"
      },
      "execution_count": null,
      "outputs": []
    },
    {
      "cell_type": "code",
      "source": [
        "job1 = Job(\"Suzzane\", \"london\", 32, \"Female\", 5.5,  59)\n",
        "job1.greet()\n",
        "job1.job()\n",
        "job1.display_profile()"
      ],
      "metadata": {
        "id": "1A-1bVOSaoUC"
      },
      "execution_count": null,
      "outputs": []
    },
    {
      "cell_type": "code",
      "source": [
        "#Multiple Inheritance\n",
        "\n",
        "class Family(Customer):\n",
        "    def family(self):\n",
        "        print(f\"{self.name} has a family!\")  # Uses self.name from Customer class"
      ],
      "metadata": {
        "id": "mrrlLdK-bJjH"
      },
      "execution_count": null,
      "outputs": []
    },
    {
      "cell_type": "code",
      "source": [
        "Family1 = Family(\"Rishabh\", \"Delhi\", 23, \"Male\", 5.7, 67)\n",
        "Family1.greet()\n",
        "Family1.family()\n"
      ],
      "metadata": {
        "id": "9yDXXLNMfAXV"
      },
      "execution_count": null,
      "outputs": []
    },
    {
      "cell_type": "code",
      "source": [
        "class member(Family, Customer):\n",
        "  def member(self):\n",
        "    print(f\"{self.name} is a member of the family\")"
      ],
      "metadata": {
        "id": "dEcO-1_jiABe"
      },
      "execution_count": null,
      "outputs": []
    },
    {
      "cell_type": "markdown",
      "source": [],
      "metadata": {
        "id": "nvPdmIQOmzjN"
      }
    },
    {
      "cell_type": "code",
      "source": [
        "member.greet(customer1)\n",
        "member.family(customer1)\n",
        "member.member(customer1)"
      ],
      "metadata": {
        "id": "AJXD9tCIjhxF"
      },
      "execution_count": null,
      "outputs": []
    },
    {
      "cell_type": "code",
      "source": [],
      "metadata": {
        "id": "81bYSTJvlEwz"
      },
      "execution_count": 8,
      "outputs": []
    },
    {
      "cell_type": "markdown",
      "source": [
        "# LEARN OOPS"
      ],
      "metadata": {
        "id": "ApawuY6uuLSE"
      }
    },
    {
      "cell_type": "code",
      "source": [],
      "metadata": {
        "id": "SmcY_pPIuIsH"
      },
      "execution_count": null,
      "outputs": []
    }
  ]
}