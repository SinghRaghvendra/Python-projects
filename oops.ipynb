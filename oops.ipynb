{
  "nbformat": 4,
  "nbformat_minor": 0,
  "metadata": {
    "colab": {
      "provenance": [],
      "authorship_tag": "ABX9TyOszuoyo4LFhX85WBQVn55T",
      "include_colab_link": true
    },
    "kernelspec": {
      "name": "python3",
      "display_name": "Python 3"
    },
    "language_info": {
      "name": "python"
    }
  },
  "cells": [
    {
      "cell_type": "markdown",
      "metadata": {
        "id": "view-in-github",
        "colab_type": "text"
      },
      "source": [
        "<a href=\"https://colab.research.google.com/github/SinghRaghvendra/Python-projects/blob/main/oops.ipynb\" target=\"_parent\"><img src=\"https://colab.research.google.com/assets/colab-badge.svg\" alt=\"Open In Colab\"/></a>"
      ]
    },
    {
      "cell_type": "code",
      "source": [],
      "metadata": {
        "id": "98hhwCnKtRCs"
      },
      "execution_count": null,
      "outputs": []
    },
    {
      "cell_type": "code",
      "execution_count": null,
      "metadata": {
        "id": "yKk4r4xlNH2r"
      },
      "outputs": [],
      "source": [
        "class Customer(): #class name\n",
        "  category = \"Fitness\" # Class attribute\n",
        "  def __init__(self, name, city, age, gender, height, weight): #Instance\n",
        "    self.name = name #Instance attribute\n",
        "    self.city = city\n",
        "    self.age  = age\n",
        "    self.gender = gender\n",
        "    self.height = height\n",
        "    self.weight = weight\n",
        "\n",
        "  def display_profile(self):\n",
        "    print(f\"Category: {self.category}\")\n",
        "    print(f\"Name: {self.name}\")\n",
        "    print(f\"City: {self.city}\")\n",
        "    print(f\"Age: {self.age}\")\n",
        "    print(f\"Gender: {self.gender}\")\n",
        "    print(f\"Height: {self.height}\")\n",
        "    print(f\"Weight: {self.weight}\")\n",
        "\n",
        "  def greet(self):\n",
        "        print(f\"Hi, My name is {self.name}. I live in {self.city} and my age is {self.age}. \"\n",
        "              f\"I am a {self.gender} of {self.height} height and {self.weight} weight. \"\n",
        "              f\"I am passionate about {self.category}.\")\n",
        "\n",
        "\n"
      ]
    },
    {
      "cell_type": "code",
      "source": [],
      "metadata": {
        "id": "R1b725aNOhJV"
      },
      "execution_count": null,
      "outputs": []
    },
    {
      "cell_type": "code",
      "source": [
        "customer1.display_profile()"
      ],
      "metadata": {
        "id": "ahlJIrDUO2AH",
        "outputId": "1344b3f6-50c9-4d18-d20c-bf5a6a1e41c9",
        "colab": {
          "base_uri": "https://localhost:8080/",
          "height": 141
        }
      },
      "execution_count": null,
      "outputs": [
        {
          "output_type": "error",
          "ename": "NameError",
          "evalue": "name 'customer1' is not defined",
          "traceback": [
            "\u001b[0;31m---------------------------------------------------------------------------\u001b[0m",
            "\u001b[0;31mNameError\u001b[0m                                 Traceback (most recent call last)",
            "\u001b[0;32m<ipython-input-2-57219fac9a5e>\u001b[0m in \u001b[0;36m<cell line: 0>\u001b[0;34m()\u001b[0m\n\u001b[0;32m----> 1\u001b[0;31m \u001b[0mcustomer1\u001b[0m\u001b[0;34m.\u001b[0m\u001b[0mdisplay_profile\u001b[0m\u001b[0;34m(\u001b[0m\u001b[0;34m)\u001b[0m\u001b[0;34m\u001b[0m\u001b[0;34m\u001b[0m\u001b[0m\n\u001b[0m",
            "\u001b[0;31mNameError\u001b[0m: name 'customer1' is not defined"
          ]
        }
      ]
    },
    {
      "cell_type": "code",
      "source": [
        "display_profile(customer2)"
      ],
      "metadata": {
        "id": "tye26pW1PxS-"
      },
      "execution_count": null,
      "outputs": []
    },
    {
      "cell_type": "code",
      "source": [],
      "metadata": {
        "id": "vfRK8hKOQoJe"
      },
      "execution_count": null,
      "outputs": []
    },
    {
      "cell_type": "code",
      "source": [
        "greet(customer1)"
      ],
      "metadata": {
        "id": "1WzE8ipyRCiC"
      },
      "execution_count": null,
      "outputs": []
    },
    {
      "cell_type": "code",
      "source": [
        "class Job(Customer):\n",
        "    def job(self):\n",
        "        print(f\"{self.name} works for a company.\")  # Uses self.name from Customer class\n"
      ],
      "metadata": {
        "id": "yPnxNeS_RIuK"
      },
      "execution_count": null,
      "outputs": []
    },
    {
      "cell_type": "code",
      "source": [
        "customer1 = Customer(\"Suzzane\", \"london\", 32, \"Female\", 5.5,  59)\n",
        "customer2 = Customer(\"Rishabh\", \"Delhi\", 23, \"Male\", 5.7, 67)"
      ],
      "metadata": {
        "id": "n2fjwziMehBL"
      },
      "execution_count": null,
      "outputs": []
    },
    {
      "cell_type": "code",
      "source": [
        "# Calling methods\n",
        "customer1.display_profile()  # Inherited from Customer\n",
        "customer1.greet()  # Defined in Job class"
      ],
      "metadata": {
        "id": "ynpt0d7NR-4O"
      },
      "execution_count": null,
      "outputs": []
    },
    {
      "cell_type": "code",
      "source": [
        "job1 = Job(\"Suzzane\", \"london\", 32, \"Female\", 5.5,  59)\n",
        "job1.greet()\n",
        "job1.job()\n",
        "job1.display_profile()"
      ],
      "metadata": {
        "id": "1A-1bVOSaoUC"
      },
      "execution_count": null,
      "outputs": []
    },
    {
      "cell_type": "code",
      "source": [
        "#Multiple Inheritance\n",
        "\n",
        "class Family(Customer):\n",
        "    def family(self):\n",
        "        print(f\"{self.name} has a family!\")  # Uses self.name from Customer class"
      ],
      "metadata": {
        "id": "mrrlLdK-bJjH"
      },
      "execution_count": null,
      "outputs": []
    },
    {
      "cell_type": "code",
      "source": [
        "Family1 = Family(\"Rishabh\", \"Delhi\", 23, \"Male\", 5.7, 67)\n",
        "Family1.greet()\n",
        "Family1.family()\n"
      ],
      "metadata": {
        "id": "9yDXXLNMfAXV"
      },
      "execution_count": null,
      "outputs": []
    },
    {
      "cell_type": "code",
      "source": [
        "class member(Family, Customer):\n",
        "  def member(self):\n",
        "    print(f\"{self.name} is a member of the family\")"
      ],
      "metadata": {
        "id": "dEcO-1_jiABe"
      },
      "execution_count": null,
      "outputs": []
    },
    {
      "cell_type": "markdown",
      "source": [],
      "metadata": {
        "id": "nvPdmIQOmzjN"
      }
    },
    {
      "cell_type": "code",
      "source": [
        "member.greet(customer1)\n",
        "member.family(customer1)\n",
        "member.member(customer1)"
      ],
      "metadata": {
        "id": "AJXD9tCIjhxF"
      },
      "execution_count": null,
      "outputs": []
    },
    {
      "cell_type": "code",
      "source": [],
      "metadata": {
        "id": "81bYSTJvlEwz"
      },
      "execution_count": null,
      "outputs": []
    },
    {
      "cell_type": "markdown",
      "source": [
        "# OOPS CONCEPTS\n"
      ],
      "metadata": {
        "id": "ApawuY6uuLSE"
      }
    },
    {
      "cell_type": "code",
      "source": [
        "class MyFirstClass:\n",
        "  pass"
      ],
      "metadata": {
        "id": "EfTkrz6Af6HU"
      },
      "execution_count": 3,
      "outputs": []
    },
    {
      "cell_type": "code",
      "source": [
        "a = MyFirstClass()\n",
        "b = MyFirstClass()\n",
        "\n",
        "print(a)"
      ],
      "metadata": {
        "id": "SmcY_pPIuIsH",
        "outputId": "a711d704-861e-42d1-a8ac-116bb5547ab8",
        "colab": {
          "base_uri": "https://localhost:8080/"
        }
      },
      "execution_count": 4,
      "outputs": [
        {
          "output_type": "stream",
          "name": "stdout",
          "text": [
            "<__main__.MyFirstClass object at 0x79e4e9cb60d0>\n"
          ]
        }
      ]
    },
    {
      "cell_type": "code",
      "source": [
        "print(b)"
      ],
      "metadata": {
        "id": "KZPOqSW4fy8y",
        "outputId": "8a4243fe-6c02-415a-caa0-21bdd6aa2523",
        "colab": {
          "base_uri": "https://localhost:8080/"
        }
      },
      "execution_count": 5,
      "outputs": [
        {
          "output_type": "stream",
          "name": "stdout",
          "text": [
            "<__main__.MyFirstClass object at 0x79e4d043a790>\n"
          ]
        }
      ]
    },
    {
      "cell_type": "code",
      "source": [
        "#adding attributes\n",
        "\n",
        "class Point():\n",
        "  pass\n",
        "\n",
        "p1 = Point()\n",
        "p2 = Point()"
      ],
      "metadata": {
        "id": "xmQh3w9Wf3GI"
      },
      "execution_count": 14,
      "outputs": []
    },
    {
      "cell_type": "code",
      "source": [
        "p1.x = 1\n",
        "p1.y = 2\n",
        "\n",
        "p2.x = 3\n",
        "p2.y = 4\n",
        "\n"
      ],
      "metadata": {
        "id": "W8qru8yJgcwt"
      },
      "execution_count": 15,
      "outputs": []
    },
    {
      "cell_type": "code",
      "source": [
        "print(p1.x, p1.y)\n",
        "print(p2.x, p2.y)"
      ],
      "metadata": {
        "id": "oEKUUiqHgntm",
        "outputId": "d4beda03-40c8-4abd-df2e-063496e8aa85",
        "colab": {
          "base_uri": "https://localhost:8080/"
        }
      },
      "execution_count": 16,
      "outputs": [
        {
          "output_type": "stream",
          "name": "stdout",
          "text": [
            "1 2\n",
            "3 4\n"
          ]
        }
      ]
    },
    {
      "cell_type": "markdown",
      "source": [
        "This code creates an empty Point class with no data or behaviors. Then it creates\n",
        "two instances of that class and assigns each of those instances x and y coordinates to\n",
        "identify a point in two dimensions. All we need to do to assign a value to an attribute\n",
        "on an object is use the ///<object>.<attribute> = <value>/// syntax. This is sometimes referred\n",
        "to as dot notation."
      ],
      "metadata": {
        "id": "ciosGDt_hGyY"
      }
    },
    {
      "cell_type": "markdown",
      "source": [
        "**Making it do something** A method in Python is formatted identically to a function. It starts with the keyword def followed by a space and the name of the method. This is followed by a set of parentheses containing the parameter list (we'll discuss that self parameter in just a moment), and terminated with a colon. The next line is indented to contain the statements inside the method.\n",
        "\n"
      ],
      "metadata": {
        "id": "lwhyl-Eqh5d9"
      }
    },
    {
      "cell_type": "code",
      "source": [
        "class Point:\n",
        "  def reset(self):\n",
        "    self.x = 0\n",
        "    self.y = 0\n",
        "\n",
        "\n",
        "p = Point()\n",
        "p.reset()\n",
        "print(p.x, p.y)"
      ],
      "metadata": {
        "id": "e1zVFGT7gtBd",
        "outputId": "20445ffc-7f7e-49ac-d1d3-83696cd3c77b",
        "colab": {
          "base_uri": "https://localhost:8080/"
        }
      },
      "execution_count": 17,
      "outputs": [
        {
          "output_type": "stream",
          "name": "stdout",
          "text": [
            "0 0\n"
          ]
        }
      ]
    },
    {
      "cell_type": "markdown",
      "source": [
        "The self argument to a method is simply a reference to the object that the method\n",
        "is being invoked on. We can access attributes and methods of that object as if it were\n",
        "any another object. However, the method really is just a function that happens to be on a class. Instead\n",
        "of calling the method on the object, we can invoke the function on the class, explicitly\n",
        "passing our object as the self argument:"
      ],
      "metadata": {
        "id": "5vi0ttLsib5Y"
      }
    },
    {
      "cell_type": "code",
      "source": [
        "p = Point()\n",
        "Point.reset(p)\n",
        "print(p.x, p.y)"
      ],
      "metadata": {
        "id": "yujlTCLCh16P",
        "outputId": "aa6de585-2107-4caf-8e0c-38437c18fe04",
        "colab": {
          "base_uri": "https://localhost:8080/"
        }
      },
      "execution_count": 18,
      "outputs": [
        {
          "output_type": "stream",
          "name": "stdout",
          "text": [
            "0 0\n"
          ]
        }
      ]
    },
    {
      "cell_type": "markdown",
      "source": [
        "**Multiple Arguments to a method**"
      ],
      "metadata": {
        "id": "x2hqZ3WyjRHF"
      }
    },
    {
      "cell_type": "code",
      "source": [
        "import math\n",
        "class Point:\n",
        "  def move(self, x, y):\n",
        "    self.x = x\n",
        "    self.y = y\n",
        "\n",
        "  def reset(self):\n",
        "    self.move(0,0)\n",
        "\n",
        "  def calculate_distance(self, other_point):\n",
        "    return math.sqrt(\n",
        "        (self.x - other_point.x)**2 +\n",
        "        (self.y - other_point.y)**2)"
      ],
      "metadata": {
        "id": "fxjPSeEti5fH"
      },
      "execution_count": 20,
      "outputs": []
    },
    {
      "cell_type": "code",
      "source": [
        "#How to use this\n",
        "\n",
        "p1 = Point()\n",
        "p2 = Point()\n",
        "\n",
        "p1.reset()\n",
        "p2.move(10,5)\n",
        "\n",
        "print(p2.calculate_distance(p1))\n",
        "assert (p2.calculate_distance(p1) ==\n",
        "        p1.calculate_distance(p2))\n",
        "p1.move(2,3)\n",
        "print(p1.calculate_distance(p2))\n",
        "print(p2.calculate_distance(p1))"
      ],
      "metadata": {
        "id": "bhrsqn0NkB_t",
        "outputId": "1cdfc832-14b3-428d-8504-3089c0cb5f1c",
        "colab": {
          "base_uri": "https://localhost:8080/"
        }
      },
      "execution_count": 21,
      "outputs": [
        {
          "output_type": "stream",
          "name": "stdout",
          "text": [
            "11.180339887498949\n",
            "8.246211251235321\n",
            "8.246211251235321\n"
          ]
        }
      ]
    },
    {
      "cell_type": "code",
      "source": [],
      "metadata": {
        "id": "rvqS3FJSlhi9"
      },
      "execution_count": null,
      "outputs": []
    },
    {
      "cell_type": "markdown",
      "source": [
        "**Initializing the object**"
      ],
      "metadata": {
        "id": "UH0xrtBQlgkm"
      }
    },
    {
      "cell_type": "code",
      "source": [],
      "metadata": {
        "id": "6PxBXVKClDTR"
      },
      "execution_count": null,
      "outputs": []
    }
  ]
}